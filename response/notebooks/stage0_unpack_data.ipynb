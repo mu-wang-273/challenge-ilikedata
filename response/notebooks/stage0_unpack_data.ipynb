{
 "cells": [
  {
   "cell_type": "markdown",
   "id": "b5bb3862-d93b-481b-835b-911111a5fc8b",
   "metadata": {},
   "source": [
    "# unpack_data\n",
    "\n",
    "This notebook:\n",
    "1. Solve the password puzzle\n",
    "2. Use the password to unpack two zip files: `test_data.db.zip` and `test_data.zip` into `response/data/` folder"
   ]
  },
  {
   "cell_type": "markdown",
   "id": "89f20f57-a2f1-44b2-8187-c91a81fb6adf",
   "metadata": {},
   "source": [
    "# Imports"
   ]
  },
  {
   "cell_type": "code",
   "execution_count": 1,
   "id": "5fe7a206-d291-4e79-a148-a1e7453a845a",
   "metadata": {},
   "outputs": [],
   "source": [
    "import hashlib"
   ]
  },
  {
   "cell_type": "markdown",
   "id": "a0c5e9f0-a208-40bc-bffd-1f008b160006",
   "metadata": {},
   "source": [
    "# Copy the ZIP files over to response/data/"
   ]
  },
  {
   "cell_type": "code",
   "execution_count": 2,
   "id": "27077dea-1029-4f49-9d3d-677dbf941e9e",
   "metadata": {},
   "outputs": [
    {
     "name": "stdout",
     "output_type": "stream",
     "text": [
      "a_data.zip       model_data.zip   test_data.db.zip\n",
      "bia_data.csv     mp_data.zip      test_data.zip\n"
     ]
    }
   ],
   "source": [
    "!ls ../../data/sample-data/"
   ]
  },
  {
   "cell_type": "code",
   "execution_count": 3,
   "id": "7b8369a3-53f2-4a39-92e4-ee983f925d1d",
   "metadata": {},
   "outputs": [],
   "source": [
    "!cp ../../data/sample-data/test_data* ../data/compressed"
   ]
  },
  {
   "cell_type": "code",
   "execution_count": 4,
   "id": "cee2fd88-2031-4c4c-8359-9e658941ed1b",
   "metadata": {},
   "outputs": [
    {
     "name": "stdout",
     "output_type": "stream",
     "text": [
      "test_data.db.zip test_data.zip\n"
     ]
    }
   ],
   "source": [
    "!ls ../data/compressed/"
   ]
  },
  {
   "cell_type": "markdown",
   "id": "8fca94e0-e0ce-4e2f-8349-45d8e55ab643",
   "metadata": {},
   "source": [
    "# Solve the password puzzle"
   ]
  },
  {
   "cell_type": "code",
   "execution_count": 5,
   "id": "981880f7-acf0-43fe-84f3-ace81953e932",
   "metadata": {},
   "outputs": [],
   "source": [
    "raw_password = b\"welcometotheiconic\""
   ]
  },
  {
   "cell_type": "code",
   "execution_count": 6,
   "id": "6fcacd5b-c665-4ab1-9e76-7381423778d3",
   "metadata": {},
   "outputs": [
    {
     "data": {
      "text/plain": [
       "'186e48fa1aafbaf63c1c295e560c2a5e0bf241e9cae0a59038e27aa8225d8c63'"
      ]
     },
     "execution_count": 6,
     "metadata": {},
     "output_type": "execute_result"
    }
   ],
   "source": [
    "decoded_password = hashlib.sha256(raw_password).hexdigest()\n",
    "\n",
    "decoded_password"
   ]
  },
  {
   "cell_type": "markdown",
   "id": "df8b1771-1fd3-4175-a3b5-07980ea04b5a",
   "metadata": {},
   "source": [
    "# Unzip the files"
   ]
  },
  {
   "cell_type": "code",
   "execution_count": 7,
   "id": "8bace609-f3e9-4072-9e99-3cfce02acc95",
   "metadata": {},
   "outputs": [
    {
     "name": "stdout",
     "output_type": "stream",
     "text": [
      "Archive:  ../data/compressed/test_data.zip\n",
      "  inflating: ../data/raw/data.json   \n"
     ]
    }
   ],
   "source": [
    "!unzip -P $decoded_password -d ../data/raw ../data/compressed/test_data.zip"
   ]
  },
  {
   "cell_type": "code",
   "execution_count": 8,
   "id": "abd50807-4caf-429b-a89a-cfe9101d188c",
   "metadata": {},
   "outputs": [
    {
     "name": "stdout",
     "output_type": "stream",
     "text": [
      "Archive:  ../data/compressed/test_data.db.zip\n",
      "  inflating: ../data/raw/test_data.db  \n"
     ]
    }
   ],
   "source": [
    "!unzip -P $decoded_password -d ../data/raw ../data/compressed/test_data.db.zip"
   ]
  },
  {
   "cell_type": "code",
   "execution_count": 9,
   "id": "9482e2a8-1d68-4e3f-8b30-df18641fdac9",
   "metadata": {},
   "outputs": [
    {
     "name": "stdout",
     "output_type": "stream",
     "text": [
      "total 95016\n",
      "-rw-r--r--  1 muwang  staff  43008508 17 Aug  2020 data.json\n",
      "-rw-r--r--  1 muwang  staff   5636096 14 May  2018 test_data.db\n"
     ]
    }
   ],
   "source": [
    "!ls -l ../data/raw"
   ]
  },
  {
   "cell_type": "markdown",
   "id": "a400eee8-0d9c-4bd7-8bec-b614d12e97ef",
   "metadata": {},
   "source": [
    "# All done!"
   ]
  },
  {
   "cell_type": "code",
   "execution_count": null,
   "id": "6f564d2c-797d-4048-b4f0-cdb52c845ef6",
   "metadata": {},
   "outputs": [],
   "source": []
  }
 ],
 "metadata": {
  "kernelspec": {
   "display_name": "Python 3 (ipykernel)",
   "language": "python",
   "name": "python3"
  },
  "language_info": {
   "codemirror_mode": {
    "name": "ipython",
    "version": 3
   },
   "file_extension": ".py",
   "mimetype": "text/x-python",
   "name": "python",
   "nbconvert_exporter": "python",
   "pygments_lexer": "ipython3",
   "version": "3.8.13"
  }
 },
 "nbformat": 4,
 "nbformat_minor": 5
}
