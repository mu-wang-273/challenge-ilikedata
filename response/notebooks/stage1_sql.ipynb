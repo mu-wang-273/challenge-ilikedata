{
 "cells": [
  {
   "cell_type": "markdown",
   "id": "d1a0a77e-47ea-4133-a777-3e3b50719b91",
   "metadata": {},
   "source": [
    "# stage1_sql\n",
    "\n",
    "This notebook reads data from `response/data/test_data.db` and answers following questions:\n",
    "\n",
    "1. What was the total revenue to the nearest dollar for customers who have paid by credit card?\n",
    "2. What percentage of customers who have purchased female items have paid by credit card?\n",
    "3. What was the average revenue for customers who used either iOS, Android or Desktop?\n",
    "4. We want to run an email campaign promoting a new mens luxury brand. Can you provide a list of customers we should send to?"
   ]
  },
  {
   "cell_type": "markdown",
   "id": "b5390ae2-115e-45b2-b239-a21107b8cfab",
   "metadata": {},
   "source": [
    "# Imports"
   ]
  },
  {
   "cell_type": "code",
   "execution_count": 2,
   "id": "f16e42e0-03d8-4fbb-a612-b2984a4ce74e",
   "metadata": {},
   "outputs": [],
   "source": [
    "import sqlite3\n",
    "import pandas as pd"
   ]
  },
  {
   "cell_type": "markdown",
   "id": "ae54bb0e-a6bd-4595-ab0b-cc7cadff563e",
   "metadata": {},
   "source": [
    "# Explore the database"
   ]
  },
  {
   "cell_type": "code",
   "execution_count": 3,
   "id": "36ccce2f-fd6f-4ba5-b4a6-2ff9fc7f40ba",
   "metadata": {},
   "outputs": [],
   "source": [
    "db_path = \"../data/test_data.db\""
   ]
  },
  {
   "cell_type": "code",
   "execution_count": 4,
   "id": "c429f448-0cf3-48eb-88ed-141e54ca8187",
   "metadata": {},
   "outputs": [],
   "source": [
    "con = sqlite3.connect(db_path)\n",
    "df_tables = pd.read_sql_query(\"SELECT * from sqlite_master\", con)\n",
    "con.close()"
   ]
  },
  {
   "cell_type": "code",
   "execution_count": 6,
   "id": "2c6ddc64-8ab7-4d3f-83cb-b745f4abb260",
   "metadata": {},
   "outputs": [
    {
     "data": {
      "text/html": [
       "<div>\n",
       "<style scoped>\n",
       "    .dataframe tbody tr th:only-of-type {\n",
       "        vertical-align: middle;\n",
       "    }\n",
       "\n",
       "    .dataframe tbody tr th {\n",
       "        vertical-align: top;\n",
       "    }\n",
       "\n",
       "    .dataframe thead th {\n",
       "        text-align: right;\n",
       "    }\n",
       "</style>\n",
       "<table border=\"1\" class=\"dataframe\">\n",
       "  <thead>\n",
       "    <tr style=\"text-align: right;\">\n",
       "      <th></th>\n",
       "      <th>type</th>\n",
       "      <th>name</th>\n",
       "      <th>tbl_name</th>\n",
       "      <th>rootpage</th>\n",
       "      <th>sql</th>\n",
       "    </tr>\n",
       "  </thead>\n",
       "  <tbody>\n",
       "    <tr>\n",
       "      <th>0</th>\n",
       "      <td>table</td>\n",
       "      <td>customers</td>\n",
       "      <td>customers</td>\n",
       "      <td>2</td>\n",
       "      <td>CREATE TABLE customers (customer_id varchar(32...</td>\n",
       "    </tr>\n",
       "  </tbody>\n",
       "</table>\n",
       "</div>"
      ],
      "text/plain": [
       "    type       name   tbl_name  rootpage  \\\n",
       "0  table  customers  customers         2   \n",
       "\n",
       "                                                 sql  \n",
       "0  CREATE TABLE customers (customer_id varchar(32...  "
      ]
     },
     "execution_count": 6,
     "metadata": {},
     "output_type": "execute_result"
    }
   ],
   "source": [
    "df_tables"
   ]
  },
  {
   "cell_type": "markdown",
   "id": "1431e9f1-8c37-4e24-87fc-1c4edcebb8a7",
   "metadata": {},
   "source": [
    "There's only one table `customers`"
   ]
  },
  {
   "cell_type": "markdown",
   "id": "950d80ab-f630-45ee-a9d3-3e4a2ec4998f",
   "metadata": {},
   "source": [
    "# Helper functions/classes"
   ]
  },
  {
   "cell_type": "code",
   "execution_count": 64,
   "id": "9acf7529-5849-4b78-aba9-8c2f647ba389",
   "metadata": {},
   "outputs": [],
   "source": [
    "class SqlLitePandasAdapter:\n",
    "    \"\"\"\n",
    "    Write this wrapper class so that \n",
    "    I don't have to manage connection everytime\n",
    "    \"\"\"\n",
    "    def __init__(self, db_path):\n",
    "        self.db_path = db_path\n",
    "    \n",
    "    def query(self, sql_str):\n",
    "        try:\n",
    "            df_out = pd.read_sql_query(sql_str, self.con)\n",
    "        except AttributeError:\n",
    "            raise SyntaxError(\"You need to use the 'with' syntax\")\n",
    "        return df_out\n",
    "    \n",
    "    def __enter__(self):\n",
    "        \"\"\"\n",
    "        __enter__() __exit__() used here to enable \n",
    "        'with' syntax, which makes opening/closing connections easier\n",
    "        __del__() as a destructor can be a bit unpredictable\n",
    "        \"\"\"\n",
    "        self.con = sqlite3.connect(self.db_path)\n",
    "        return self\n",
    "        \n",
    "    def __exit__(self, exc_type, exc_value, traceback):\n",
    "        self.con.close()"
   ]
  },
  {
   "cell_type": "code",
   "execution_count": 68,
   "id": "d8019cb9-7c19-48f7-8e12-76ad50cc0669",
   "metadata": {},
   "outputs": [
    {
     "data": {
      "text/html": [
       "<div>\n",
       "<style scoped>\n",
       "    .dataframe tbody tr th:only-of-type {\n",
       "        vertical-align: middle;\n",
       "    }\n",
       "\n",
       "    .dataframe tbody tr th {\n",
       "        vertical-align: top;\n",
       "    }\n",
       "\n",
       "    .dataframe thead th {\n",
       "        text-align: right;\n",
       "    }\n",
       "</style>\n",
       "<table border=\"1\" class=\"dataframe\">\n",
       "  <thead>\n",
       "    <tr style=\"text-align: right;\">\n",
       "      <th></th>\n",
       "      <th>1</th>\n",
       "    </tr>\n",
       "  </thead>\n",
       "  <tbody>\n",
       "    <tr>\n",
       "      <th>0</th>\n",
       "      <td>1</td>\n",
       "    </tr>\n",
       "  </tbody>\n",
       "</table>\n",
       "</div>"
      ],
      "text/plain": [
       "   1\n",
       "0  1"
      ]
     },
     "execution_count": 68,
     "metadata": {},
     "output_type": "execute_result"
    }
   ],
   "source": [
    "# A quick test on the helper class\n",
    "with SqlLitePandasAdapter(db_path) as q:\n",
    "    test_df = q.query(\"select 1\")\n",
    "    \n",
    "test_df"
   ]
  },
  {
   "cell_type": "markdown",
   "id": "bb19596e-b999-496b-b84b-8d923c05b7cc",
   "metadata": {},
   "source": [
    "# Data exploration\n",
    "I'd say I'm equally comfortable doing EDA in Pandas or SQL but since Pandas is faster I'm going to do it in Pandas then write the queries in SQL"
   ]
  },
  {
   "cell_type": "code",
   "execution_count": 81,
   "id": "512e8fff-9961-45b2-b61d-1681bf1f62cd",
   "metadata": {},
   "outputs": [],
   "source": [
    "with SqlLitePandasAdapter(db_path) as q: \n",
    "    customers = q.query(\"select * from customers\")"
   ]
  },
  {
   "cell_type": "code",
   "execution_count": 82,
   "id": "53dcaa6a-c0f9-465e-9590-796873d8ffa5",
   "metadata": {
    "scrolled": true,
    "tags": []
   },
   "outputs": [
    {
     "name": "stdout",
     "output_type": "stream",
     "text": [
      "<class 'pandas.core.frame.DataFrame'>\n",
      "RangeIndex: 46279 entries, 0 to 46278\n",
      "Data columns (total 43 columns):\n",
      " #   Column                    Non-Null Count  Dtype  \n",
      "---  ------                    --------------  -----  \n",
      " 0   customer_id               46279 non-null  object \n",
      " 1   days_since_first_order    46279 non-null  int64  \n",
      " 2   days_since_last_order     46279 non-null  int64  \n",
      " 3   is_newsletter_subscriber  46279 non-null  object \n",
      " 4   orders                    46279 non-null  int64  \n",
      " 5   items                     46279 non-null  int64  \n",
      " 6   cancels                   46279 non-null  int64  \n",
      " 7   returns                   46279 non-null  int64  \n",
      " 8   different_addresses       46279 non-null  int64  \n",
      " 9   shipping_addresses        46279 non-null  int64  \n",
      " 10  devices                   46279 non-null  int64  \n",
      " 11  vouchers                  46279 non-null  int64  \n",
      " 12  cc_payments               46279 non-null  int64  \n",
      " 13  paypal_payments           46279 non-null  int64  \n",
      " 14  afterpay_payments         46279 non-null  int64  \n",
      " 15  apple_payments            46279 non-null  int64  \n",
      " 16  female_items              46279 non-null  int64  \n",
      " 17  male_items                46279 non-null  int64  \n",
      " 18  unisex_items              46279 non-null  int64  \n",
      " 19  wapp_items                46279 non-null  int64  \n",
      " 20  wftw_items                46279 non-null  int64  \n",
      " 21  mapp_items                46279 non-null  int64  \n",
      " 22  wacc_items                46279 non-null  int64  \n",
      " 23  macc_items                46279 non-null  int64  \n",
      " 24  mftw_items                46279 non-null  int64  \n",
      " 25  wspt_items                46279 non-null  int64  \n",
      " 26  mspt_items                46279 non-null  int64  \n",
      " 27  curvy_items               46279 non-null  int64  \n",
      " 28  sacc_items                46279 non-null  int64  \n",
      " 29  msite_orders              46279 non-null  int64  \n",
      " 30  desktop_orders            46279 non-null  int64  \n",
      " 31  android_orders            46279 non-null  int64  \n",
      " 32  ios_orders                46279 non-null  int64  \n",
      " 33  other_device_orders       46279 non-null  int64  \n",
      " 34  work_orders               46279 non-null  int64  \n",
      " 35  home_orders               46279 non-null  int64  \n",
      " 36  parcelpoint_orders        46279 non-null  int64  \n",
      " 37  other_collection_orders   46279 non-null  int64  \n",
      " 38  redpen_discount_used      46279 non-null  float64\n",
      " 39  coupon_discount_applied   36074 non-null  float64\n",
      " 40  average_discount_onoffer  46279 non-null  float64\n",
      " 41  average_discount_used     46279 non-null  float64\n",
      " 42  revenue                   46279 non-null  float64\n",
      "dtypes: float64(5), int64(36), object(2)\n",
      "memory usage: 15.2+ MB\n"
     ]
    }
   ],
   "source": [
    "customers.info()"
   ]
  },
  {
   "cell_type": "markdown",
   "id": "9a0617f5-2c31-41b9-abf0-c73b61411a9d",
   "metadata": {},
   "source": [
    "# Question 1\n",
    "__What was the total revenue to the nearest dollar for customers who have paid by credit card?__"
   ]
  },
  {
   "cell_type": "markdown",
   "id": "2314a0f4-6eb3-47f2-afd9-6f201757c426",
   "metadata": {},
   "source": [
    "What defines \"credit card payment\"?"
   ]
  },
  {
   "cell_type": "code",
   "execution_count": 31,
   "id": "8a5b1d80-7db4-4687-b793-6579d3d42f58",
   "metadata": {},
   "outputs": [
    {
     "data": {
      "text/plain": [
       "1    29729\n",
       "0    16550\n",
       "Name: cc_payments, dtype: int64"
      ]
     },
     "execution_count": 31,
     "metadata": {},
     "output_type": "execute_result"
    }
   ],
   "source": [
    "customers.cc_payments.value_counts()"
   ]
  },
  {
   "cell_type": "markdown",
   "id": "f75bcaff-178d-4651-a282-e9f7c9348c82",
   "metadata": {},
   "source": [
    "It's just a flag, but still let's do a sanity check on all payment types"
   ]
  },
  {
   "cell_type": "code",
   "execution_count": 104,
   "id": "5a28b118-612f-4ae9-9362-1f0943a3c9eb",
   "metadata": {},
   "outputs": [
    {
     "data": {
      "text/html": [
       "<div>\n",
       "<style scoped>\n",
       "    .dataframe tbody tr th:only-of-type {\n",
       "        vertical-align: middle;\n",
       "    }\n",
       "\n",
       "    .dataframe tbody tr th {\n",
       "        vertical-align: top;\n",
       "    }\n",
       "\n",
       "    .dataframe thead th {\n",
       "        text-align: right;\n",
       "    }\n",
       "</style>\n",
       "<table border=\"1\" class=\"dataframe\">\n",
       "  <thead>\n",
       "    <tr style=\"text-align: right;\">\n",
       "      <th></th>\n",
       "      <th>cc_payments</th>\n",
       "      <th>paypal_payments</th>\n",
       "      <th>afterpay_payments</th>\n",
       "      <th>apple_payments</th>\n",
       "      <th>0</th>\n",
       "    </tr>\n",
       "  </thead>\n",
       "  <tbody>\n",
       "    <tr>\n",
       "      <th>0</th>\n",
       "      <td>0</td>\n",
       "      <td>0</td>\n",
       "      <td>0</td>\n",
       "      <td>0</td>\n",
       "      <td>142</td>\n",
       "    </tr>\n",
       "    <tr>\n",
       "      <th>1</th>\n",
       "      <td>0</td>\n",
       "      <td>0</td>\n",
       "      <td>0</td>\n",
       "      <td>1</td>\n",
       "      <td>6</td>\n",
       "    </tr>\n",
       "    <tr>\n",
       "      <th>2</th>\n",
       "      <td>0</td>\n",
       "      <td>0</td>\n",
       "      <td>1</td>\n",
       "      <td>0</td>\n",
       "      <td>820</td>\n",
       "    </tr>\n",
       "    <tr>\n",
       "      <th>3</th>\n",
       "      <td>0</td>\n",
       "      <td>1</td>\n",
       "      <td>0</td>\n",
       "      <td>0</td>\n",
       "      <td>15252</td>\n",
       "    </tr>\n",
       "    <tr>\n",
       "      <th>4</th>\n",
       "      <td>0</td>\n",
       "      <td>1</td>\n",
       "      <td>0</td>\n",
       "      <td>1</td>\n",
       "      <td>2</td>\n",
       "    </tr>\n",
       "    <tr>\n",
       "      <th>5</th>\n",
       "      <td>0</td>\n",
       "      <td>1</td>\n",
       "      <td>1</td>\n",
       "      <td>0</td>\n",
       "      <td>328</td>\n",
       "    </tr>\n",
       "    <tr>\n",
       "      <th>6</th>\n",
       "      <td>1</td>\n",
       "      <td>0</td>\n",
       "      <td>0</td>\n",
       "      <td>0</td>\n",
       "      <td>21902</td>\n",
       "    </tr>\n",
       "    <tr>\n",
       "      <th>7</th>\n",
       "      <td>1</td>\n",
       "      <td>0</td>\n",
       "      <td>0</td>\n",
       "      <td>1</td>\n",
       "      <td>8</td>\n",
       "    </tr>\n",
       "    <tr>\n",
       "      <th>8</th>\n",
       "      <td>1</td>\n",
       "      <td>0</td>\n",
       "      <td>1</td>\n",
       "      <td>0</td>\n",
       "      <td>682</td>\n",
       "    </tr>\n",
       "    <tr>\n",
       "      <th>9</th>\n",
       "      <td>1</td>\n",
       "      <td>1</td>\n",
       "      <td>0</td>\n",
       "      <td>0</td>\n",
       "      <td>6484</td>\n",
       "    </tr>\n",
       "    <tr>\n",
       "      <th>10</th>\n",
       "      <td>1</td>\n",
       "      <td>1</td>\n",
       "      <td>0</td>\n",
       "      <td>1</td>\n",
       "      <td>10</td>\n",
       "    </tr>\n",
       "    <tr>\n",
       "      <th>11</th>\n",
       "      <td>1</td>\n",
       "      <td>1</td>\n",
       "      <td>1</td>\n",
       "      <td>0</td>\n",
       "      <td>643</td>\n",
       "    </tr>\n",
       "  </tbody>\n",
       "</table>\n",
       "</div>"
      ],
      "text/plain": [
       "    cc_payments  paypal_payments  afterpay_payments  apple_payments      0\n",
       "0             0                0                  0               0    142\n",
       "1             0                0                  0               1      6\n",
       "2             0                0                  1               0    820\n",
       "3             0                1                  0               0  15252\n",
       "4             0                1                  0               1      2\n",
       "5             0                1                  1               0    328\n",
       "6             1                0                  0               0  21902\n",
       "7             1                0                  0               1      8\n",
       "8             1                0                  1               0    682\n",
       "9             1                1                  0               0   6484\n",
       "10            1                1                  0               1     10\n",
       "11            1                1                  1               0    643"
      ]
     },
     "execution_count": 104,
     "metadata": {},
     "output_type": "execute_result"
    }
   ],
   "source": [
    "(\n",
    "customers\n",
    ".filter(regex=\".*payments.*\") # select all payment related columns\n",
    ".pipe(lambda df: df.groupby(list(df.columns)).size()) # groupby and count by all payment type combinations\n",
    ".reset_index() # expand the index so it's easier to look at\n",
    ")"
   ]
  },
  {
   "cell_type": "markdown",
   "id": "363d4271-5a60-48df-8747-f8ae26f9f00c",
   "metadata": {},
   "source": [
    "Looks like a combination of payments is possible, but cc_payments=1 for credit card payment makes sense"
   ]
  },
  {
   "cell_type": "markdown",
   "id": "b1bea3a9-c29d-42c7-9a9c-6933b1e6a572",
   "metadata": {},
   "source": [
    "Now which column is \"revenue\", I'm going to take column names literally, but still sanity check just to be safe"
   ]
  },
  {
   "cell_type": "code",
   "execution_count": 70,
   "id": "5ecbc438-314f-4c70-bb4b-b18e34d34022",
   "metadata": {},
   "outputs": [
    {
     "data": {
      "text/plain": [
       "<AxesSubplot:>"
      ]
     },
     "execution_count": 70,
     "metadata": {},
     "output_type": "execute_result"
    },
    {
     "data": {
      "image/png": "[encoded data removed]",
      "text/plain": [
       "<Figure size 432x288 with 1 Axes>"
      ]
     },
     "metadata": {
      "needs_background": "light"
     },
     "output_type": "display_data"
    }
   ],
   "source": [
    "customers.revenue.hist()"
   ]
  },
  {
   "cell_type": "markdown",
   "id": "8275c41f-cacc-47c7-a4d1-bc5aac31bfcb",
   "metadata": {},
   "source": [
    "This isn't very helpful, did someone really spend $350,000??\n",
    "\n",
    "Let me clip it to 90th quantile"
   ]
  },
  {
   "cell_type": "code",
   "execution_count": 101,
   "id": "0ba0aba1-8ea3-41a4-ae9c-8e67576c2a96",
   "metadata": {},
   "outputs": [
    {
     "data": {
      "text/plain": [
       "<AxesSubplot:>"
      ]
     },
     "execution_count": 101,
     "metadata": {},
     "output_type": "execute_result"
    },
    {
     "data": {
      "image/png": "[encoded data removed]",
      "text/plain": [
       "<Figure size 432x288 with 1 Axes>"
      ]
     },
     "metadata": {
      "needs_background": "light"
     },
     "output_type": "display_data"
    }
   ],
   "source": [
    "customers.revenue\\\n",
    ".pipe(lambda s: s[lambda x: x<=x.quantile(0.9)])\\\n",
    ".hist()"
   ]
  },
  {
   "cell_type": "markdown",
   "id": "819cd78a-90d4-4936-8326-2308a099cf53",
   "metadata": {},
   "source": [
    "That makes much more sense in an eCommerce context, I'll go with it"
   ]
  },
  {
   "cell_type": "markdown",
   "id": "794ea030-47e9-4232-979e-d24be9d5790a",
   "metadata": {},
   "source": [
    "Time to write the SQL"
   ]
  },
  {
   "cell_type": "code",
   "execution_count": 97,
   "id": "bfbf45a8-ca80-4d16-a6c4-be90e2223578",
   "metadata": {},
   "outputs": [],
   "source": [
    "sql_str1 = \"\"\"\n",
    "select \n",
    "    sum(revenue) Total_Revenue,\n",
    "    round(sum(revenue)) Total_Revenue_Rounded\n",
    "from \n",
    "    customers\n",
    "where\n",
    "    cc_payments = 1\n",
    "\"\"\"\n",
    "\n",
    "with SqlLitePandasAdapter(db_path) as q:\n",
    "    df_answer1 = q.query(sql_str1)"
   ]
  },
  {
   "cell_type": "code",
   "execution_count": 98,
   "id": "7bb7051e-c452-45f1-ae85-2fcab6782954",
   "metadata": {},
   "outputs": [
    {
     "data": {
      "text/html": [
       "<div>\n",
       "<style scoped>\n",
       "    .dataframe tbody tr th:only-of-type {\n",
       "        vertical-align: middle;\n",
       "    }\n",
       "\n",
       "    .dataframe tbody tr th {\n",
       "        vertical-align: top;\n",
       "    }\n",
       "\n",
       "    .dataframe thead th {\n",
       "        text-align: right;\n",
       "    }\n",
       "</style>\n",
       "<table border=\"1\" class=\"dataframe\">\n",
       "  <thead>\n",
       "    <tr style=\"text-align: right;\">\n",
       "      <th></th>\n",
       "      <th>Total_Revenue</th>\n",
       "      <th>Total_Revenue_Rounded</th>\n",
       "    </tr>\n",
       "  </thead>\n",
       "  <tbody>\n",
       "    <tr>\n",
       "      <th>0</th>\n",
       "      <td>50372281.74</td>\n",
       "      <td>50372282.0</td>\n",
       "    </tr>\n",
       "  </tbody>\n",
       "</table>\n",
       "</div>"
      ],
      "text/plain": [
       "   Total_Revenue  Total_Revenue_Rounded\n",
       "0    50372281.74             50372282.0"
      ]
     },
     "execution_count": 98,
     "metadata": {},
     "output_type": "execute_result"
    }
   ],
   "source": [
    "df_answer1"
   ]
  },
  {
   "cell_type": "markdown",
   "id": "095d0e36-9ca7-4053-b551-8034f5a89ad1",
   "metadata": {},
   "source": [
    "There goes the answer: $50,372,282\n",
    "\n",
    "I also printed the un-rounded number just in case Sqlite's ROUND() function behaves unexpectedly"
   ]
  },
  {
   "cell_type": "markdown",
   "id": "30377be9-b843-44d8-8105-be1b51b23e6a",
   "metadata": {},
   "source": [
    "# Question 2\n",
    "__What percentage of customers who have purchased female items have paid by credit card?__"
   ]
  },
  {
   "cell_type": "markdown",
   "id": "8a6f65d3-4894-4c73-b27e-cb2ed2d633a2",
   "metadata": {},
   "source": [
    "First of all what is a \"female item\"? Let me examine the entire dataframe closely. "
   ]
  },
  {
   "cell_type": "code",
   "execution_count": 92,
   "id": "df2996ac-db7e-4397-a32e-0d0ba9eff749",
   "metadata": {},
   "outputs": [
    {
     "data": {
      "text/html": [
       "<div>\n",
       "<style scoped>\n",
       "    .dataframe tbody tr th:only-of-type {\n",
       "        vertical-align: middle;\n",
       "    }\n",
       "\n",
       "    .dataframe tbody tr th {\n",
       "        vertical-align: top;\n",
       "    }\n",
       "\n",
       "    .dataframe thead th {\n",
       "        text-align: right;\n",
       "    }\n",
       "</style>\n",
       "<table border=\"1\" class=\"dataframe\">\n",
       "  <thead>\n",
       "    <tr style=\"text-align: right;\">\n",
       "      <th></th>\n",
       "      <th>customer_id</th>\n",
       "      <th>days_since_first_order</th>\n",
       "      <th>days_since_last_order</th>\n",
       "      <th>is_newsletter_subscriber</th>\n",
       "      <th>orders</th>\n",
       "      <th>items</th>\n",
       "      <th>cancels</th>\n",
       "      <th>returns</th>\n",
       "      <th>different_addresses</th>\n",
       "      <th>shipping_addresses</th>\n",
       "      <th>devices</th>\n",
       "      <th>vouchers</th>\n",
       "      <th>cc_payments</th>\n",
       "      <th>paypal_payments</th>\n",
       "      <th>afterpay_payments</th>\n",
       "      <th>apple_payments</th>\n",
       "      <th>female_items</th>\n",
       "      <th>male_items</th>\n",
       "      <th>unisex_items</th>\n",
       "      <th>wapp_items</th>\n",
       "      <th>wftw_items</th>\n",
       "      <th>mapp_items</th>\n",
       "      <th>wacc_items</th>\n",
       "      <th>macc_items</th>\n",
       "      <th>mftw_items</th>\n",
       "      <th>wspt_items</th>\n",
       "      <th>mspt_items</th>\n",
       "      <th>curvy_items</th>\n",
       "      <th>sacc_items</th>\n",
       "      <th>msite_orders</th>\n",
       "      <th>desktop_orders</th>\n",
       "      <th>android_orders</th>\n",
       "      <th>ios_orders</th>\n",
       "      <th>other_device_orders</th>\n",
       "      <th>work_orders</th>\n",
       "      <th>home_orders</th>\n",
       "      <th>parcelpoint_orders</th>\n",
       "      <th>other_collection_orders</th>\n",
       "      <th>redpen_discount_used</th>\n",
       "      <th>coupon_discount_applied</th>\n",
       "      <th>average_discount_onoffer</th>\n",
       "      <th>average_discount_used</th>\n",
       "      <th>revenue</th>\n",
       "    </tr>\n",
       "  </thead>\n",
       "  <tbody>\n",
       "    <tr>\n",
       "      <th>17335</th>\n",
       "      <td>d0ae4f4195ec22878cb8d2bc4f32be6f</td>\n",
       "      <td>1691</td>\n",
       "      <td>40584</td>\n",
       "      <td>N</td>\n",
       "      <td>1</td>\n",
       "      <td>4</td>\n",
       "      <td>0</td>\n",
       "      <td>0</td>\n",
       "      <td>0</td>\n",
       "      <td>1</td>\n",
       "      <td>1</td>\n",
       "      <td>0</td>\n",
       "      <td>0</td>\n",
       "      <td>1</td>\n",
       "      <td>0</td>\n",
       "      <td>0</td>\n",
       "      <td>4</td>\n",
       "      <td>0</td>\n",
       "      <td>0</td>\n",
       "      <td>2</td>\n",
       "      <td>2</td>\n",
       "      <td>0</td>\n",
       "      <td>0</td>\n",
       "      <td>0</td>\n",
       "      <td>0</td>\n",
       "      <td>0</td>\n",
       "      <td>0</td>\n",
       "      <td>0</td>\n",
       "      <td>0</td>\n",
       "      <td>0</td>\n",
       "      <td>1</td>\n",
       "      <td>0</td>\n",
       "      <td>0</td>\n",
       "      <td>0</td>\n",
       "      <td>0</td>\n",
       "      <td>0</td>\n",
       "      <td>0</td>\n",
       "      <td>1</td>\n",
       "      <td>1147.36</td>\n",
       "      <td>0.00</td>\n",
       "      <td>0.6000</td>\n",
       "      <td>5999.5788</td>\n",
       "      <td>626.80</td>\n",
       "    </tr>\n",
       "    <tr>\n",
       "      <th>39922</th>\n",
       "      <td>8d36ad109e3e8797bd3f83fc9c922177</td>\n",
       "      <td>1666</td>\n",
       "      <td>39984</td>\n",
       "      <td>Y</td>\n",
       "      <td>1</td>\n",
       "      <td>1</td>\n",
       "      <td>0</td>\n",
       "      <td>0</td>\n",
       "      <td>0</td>\n",
       "      <td>1</td>\n",
       "      <td>1</td>\n",
       "      <td>1</td>\n",
       "      <td>1</td>\n",
       "      <td>0</td>\n",
       "      <td>0</td>\n",
       "      <td>0</td>\n",
       "      <td>0</td>\n",
       "      <td>1</td>\n",
       "      <td>0</td>\n",
       "      <td>0</td>\n",
       "      <td>0</td>\n",
       "      <td>0</td>\n",
       "      <td>0</td>\n",
       "      <td>0</td>\n",
       "      <td>0</td>\n",
       "      <td>0</td>\n",
       "      <td>1</td>\n",
       "      <td>0</td>\n",
       "      <td>0</td>\n",
       "      <td>0</td>\n",
       "      <td>1</td>\n",
       "      <td>0</td>\n",
       "      <td>0</td>\n",
       "      <td>0</td>\n",
       "      <td>0</td>\n",
       "      <td>0</td>\n",
       "      <td>0</td>\n",
       "      <td>1</td>\n",
       "      <td>0.00</td>\n",
       "      <td>45.45</td>\n",
       "      <td>0.0000</td>\n",
       "      <td>8339.4495</td>\n",
       "      <td>9.05</td>\n",
       "    </tr>\n",
       "    <tr>\n",
       "      <th>7579</th>\n",
       "      <td>ed96b7f9f504ebbad0732be0f4841543</td>\n",
       "      <td>1780</td>\n",
       "      <td>42720</td>\n",
       "      <td>Y</td>\n",
       "      <td>1</td>\n",
       "      <td>10</td>\n",
       "      <td>0</td>\n",
       "      <td>0</td>\n",
       "      <td>1</td>\n",
       "      <td>1</td>\n",
       "      <td>1</td>\n",
       "      <td>0</td>\n",
       "      <td>1</td>\n",
       "      <td>0</td>\n",
       "      <td>0</td>\n",
       "      <td>0</td>\n",
       "      <td>10</td>\n",
       "      <td>0</td>\n",
       "      <td>0</td>\n",
       "      <td>10</td>\n",
       "      <td>0</td>\n",
       "      <td>0</td>\n",
       "      <td>0</td>\n",
       "      <td>0</td>\n",
       "      <td>0</td>\n",
       "      <td>0</td>\n",
       "      <td>0</td>\n",
       "      <td>0</td>\n",
       "      <td>0</td>\n",
       "      <td>0</td>\n",
       "      <td>1</td>\n",
       "      <td>0</td>\n",
       "      <td>0</td>\n",
       "      <td>0</td>\n",
       "      <td>0</td>\n",
       "      <td>0</td>\n",
       "      <td>0</td>\n",
       "      <td>1</td>\n",
       "      <td>181.70</td>\n",
       "      <td>0.00</td>\n",
       "      <td>0.0500</td>\n",
       "      <td>499.8624</td>\n",
       "      <td>3598.40</td>\n",
       "    </tr>\n",
       "    <tr>\n",
       "      <th>1628</th>\n",
       "      <td>b3265f4493ef582539f9001845bbfd43</td>\n",
       "      <td>2087</td>\n",
       "      <td>50088</td>\n",
       "      <td>N</td>\n",
       "      <td>1</td>\n",
       "      <td>1</td>\n",
       "      <td>0</td>\n",
       "      <td>0</td>\n",
       "      <td>0</td>\n",
       "      <td>1</td>\n",
       "      <td>1</td>\n",
       "      <td>0</td>\n",
       "      <td>1</td>\n",
       "      <td>0</td>\n",
       "      <td>0</td>\n",
       "      <td>0</td>\n",
       "      <td>1</td>\n",
       "      <td>0</td>\n",
       "      <td>0</td>\n",
       "      <td>0</td>\n",
       "      <td>1</td>\n",
       "      <td>0</td>\n",
       "      <td>0</td>\n",
       "      <td>0</td>\n",
       "      <td>0</td>\n",
       "      <td>0</td>\n",
       "      <td>0</td>\n",
       "      <td>0</td>\n",
       "      <td>0</td>\n",
       "      <td>0</td>\n",
       "      <td>1</td>\n",
       "      <td>0</td>\n",
       "      <td>0</td>\n",
       "      <td>0</td>\n",
       "      <td>0</td>\n",
       "      <td>0</td>\n",
       "      <td>0</td>\n",
       "      <td>1</td>\n",
       "      <td>27.27</td>\n",
       "      <td>0.00</td>\n",
       "      <td>0.3001</td>\n",
       "      <td>3001.3207</td>\n",
       "      <td>63.59</td>\n",
       "    </tr>\n",
       "    <tr>\n",
       "      <th>25657</th>\n",
       "      <td>7350f4e1190757dc4a2fa73250986489</td>\n",
       "      <td>486</td>\n",
       "      <td>11664</td>\n",
       "      <td>N</td>\n",
       "      <td>1</td>\n",
       "      <td>1</td>\n",
       "      <td>0</td>\n",
       "      <td>0</td>\n",
       "      <td>0</td>\n",
       "      <td>1</td>\n",
       "      <td>1</td>\n",
       "      <td>0</td>\n",
       "      <td>0</td>\n",
       "      <td>1</td>\n",
       "      <td>0</td>\n",
       "      <td>0</td>\n",
       "      <td>1</td>\n",
       "      <td>0</td>\n",
       "      <td>0</td>\n",
       "      <td>1</td>\n",
       "      <td>0</td>\n",
       "      <td>0</td>\n",
       "      <td>0</td>\n",
       "      <td>0</td>\n",
       "      <td>0</td>\n",
       "      <td>0</td>\n",
       "      <td>0</td>\n",
       "      <td>0</td>\n",
       "      <td>0</td>\n",
       "      <td>1</td>\n",
       "      <td>0</td>\n",
       "      <td>0</td>\n",
       "      <td>0</td>\n",
       "      <td>0</td>\n",
       "      <td>0</td>\n",
       "      <td>1</td>\n",
       "      <td>0</td>\n",
       "      <td>0</td>\n",
       "      <td>0.00</td>\n",
       "      <td>NaN</td>\n",
       "      <td>0.0000</td>\n",
       "      <td>0.0000</td>\n",
       "      <td>90.86</td>\n",
       "    </tr>\n",
       "    <tr>\n",
       "      <th>25818</th>\n",
       "      <td>709025a6afa9cef981690832f8c809f6</td>\n",
       "      <td>1794</td>\n",
       "      <td>43056</td>\n",
       "      <td>N</td>\n",
       "      <td>1</td>\n",
       "      <td>2</td>\n",
       "      <td>0</td>\n",
       "      <td>0</td>\n",
       "      <td>0</td>\n",
       "      <td>1</td>\n",
       "      <td>1</td>\n",
       "      <td>0</td>\n",
       "      <td>1</td>\n",
       "      <td>0</td>\n",
       "      <td>0</td>\n",
       "      <td>0</td>\n",
       "      <td>0</td>\n",
       "      <td>2</td>\n",
       "      <td>0</td>\n",
       "      <td>0</td>\n",
       "      <td>0</td>\n",
       "      <td>0</td>\n",
       "      <td>0</td>\n",
       "      <td>0</td>\n",
       "      <td>0</td>\n",
       "      <td>0</td>\n",
       "      <td>0</td>\n",
       "      <td>0</td>\n",
       "      <td>0</td>\n",
       "      <td>1</td>\n",
       "      <td>0</td>\n",
       "      <td>0</td>\n",
       "      <td>0</td>\n",
       "      <td>0</td>\n",
       "      <td>0</td>\n",
       "      <td>0</td>\n",
       "      <td>0</td>\n",
       "      <td>1</td>\n",
       "      <td>0.00</td>\n",
       "      <td>0.00</td>\n",
       "      <td>0.0000</td>\n",
       "      <td>0.0000</td>\n",
       "      <td>90.74</td>\n",
       "    </tr>\n",
       "    <tr>\n",
       "      <th>16032</th>\n",
       "      <td>404c4700c98df6ce0f10d405fc43788e</td>\n",
       "      <td>1737</td>\n",
       "      <td>41688</td>\n",
       "      <td>N</td>\n",
       "      <td>1</td>\n",
       "      <td>1</td>\n",
       "      <td>0</td>\n",
       "      <td>0</td>\n",
       "      <td>0</td>\n",
       "      <td>1</td>\n",
       "      <td>1</td>\n",
       "      <td>0</td>\n",
       "      <td>0</td>\n",
       "      <td>1</td>\n",
       "      <td>0</td>\n",
       "      <td>0</td>\n",
       "      <td>0</td>\n",
       "      <td>1</td>\n",
       "      <td>0</td>\n",
       "      <td>0</td>\n",
       "      <td>0</td>\n",
       "      <td>0</td>\n",
       "      <td>0</td>\n",
       "      <td>0</td>\n",
       "      <td>0</td>\n",
       "      <td>0</td>\n",
       "      <td>0</td>\n",
       "      <td>0</td>\n",
       "      <td>0</td>\n",
       "      <td>0</td>\n",
       "      <td>1</td>\n",
       "      <td>0</td>\n",
       "      <td>0</td>\n",
       "      <td>0</td>\n",
       "      <td>0</td>\n",
       "      <td>0</td>\n",
       "      <td>0</td>\n",
       "      <td>1</td>\n",
       "      <td>13.68</td>\n",
       "      <td>0.00</td>\n",
       "      <td>0.2315</td>\n",
       "      <td>2315.1125</td>\n",
       "      <td>45.41</td>\n",
       "    </tr>\n",
       "    <tr>\n",
       "      <th>961</th>\n",
       "      <td>9ab0f20caca047bbb068c6987417d47a</td>\n",
       "      <td>1980</td>\n",
       "      <td>47520</td>\n",
       "      <td>Y</td>\n",
       "      <td>3</td>\n",
       "      <td>9</td>\n",
       "      <td>0</td>\n",
       "      <td>0</td>\n",
       "      <td>0</td>\n",
       "      <td>1</td>\n",
       "      <td>1</td>\n",
       "      <td>0</td>\n",
       "      <td>1</td>\n",
       "      <td>0</td>\n",
       "      <td>0</td>\n",
       "      <td>0</td>\n",
       "      <td>9</td>\n",
       "      <td>0</td>\n",
       "      <td>0</td>\n",
       "      <td>6</td>\n",
       "      <td>3</td>\n",
       "      <td>0</td>\n",
       "      <td>0</td>\n",
       "      <td>0</td>\n",
       "      <td>0</td>\n",
       "      <td>0</td>\n",
       "      <td>0</td>\n",
       "      <td>0</td>\n",
       "      <td>0</td>\n",
       "      <td>0</td>\n",
       "      <td>3</td>\n",
       "      <td>0</td>\n",
       "      <td>0</td>\n",
       "      <td>0</td>\n",
       "      <td>0</td>\n",
       "      <td>0</td>\n",
       "      <td>0</td>\n",
       "      <td>3</td>\n",
       "      <td>93.00</td>\n",
       "      <td>0.00</td>\n",
       "      <td>0.0689</td>\n",
       "      <td>688.8889</td>\n",
       "      <td>452.31</td>\n",
       "    </tr>\n",
       "    <tr>\n",
       "      <th>14786</th>\n",
       "      <td>e450c81169b1f4521b7a7ecdf1e4b48c</td>\n",
       "      <td>1719</td>\n",
       "      <td>312</td>\n",
       "      <td>N</td>\n",
       "      <td>16</td>\n",
       "      <td>79</td>\n",
       "      <td>0</td>\n",
       "      <td>0</td>\n",
       "      <td>0</td>\n",
       "      <td>1</td>\n",
       "      <td>2</td>\n",
       "      <td>7</td>\n",
       "      <td>1</td>\n",
       "      <td>1</td>\n",
       "      <td>0</td>\n",
       "      <td>0</td>\n",
       "      <td>46</td>\n",
       "      <td>25</td>\n",
       "      <td>8</td>\n",
       "      <td>27</td>\n",
       "      <td>5</td>\n",
       "      <td>10</td>\n",
       "      <td>2</td>\n",
       "      <td>2</td>\n",
       "      <td>12</td>\n",
       "      <td>6</td>\n",
       "      <td>3</td>\n",
       "      <td>0</td>\n",
       "      <td>5</td>\n",
       "      <td>0</td>\n",
       "      <td>12</td>\n",
       "      <td>0</td>\n",
       "      <td>4</td>\n",
       "      <td>0</td>\n",
       "      <td>0</td>\n",
       "      <td>9</td>\n",
       "      <td>0</td>\n",
       "      <td>7</td>\n",
       "      <td>15842.66</td>\n",
       "      <td>4357.81</td>\n",
       "      <td>0.4280</td>\n",
       "      <td>5595.0197</td>\n",
       "      <td>18656.77</td>\n",
       "    </tr>\n",
       "    <tr>\n",
       "      <th>702</th>\n",
       "      <td>bb09480f7109867a8eac8c1a4c786e37</td>\n",
       "      <td>1998</td>\n",
       "      <td>40176</td>\n",
       "      <td>N</td>\n",
       "      <td>5</td>\n",
       "      <td>8</td>\n",
       "      <td>1</td>\n",
       "      <td>1</td>\n",
       "      <td>0</td>\n",
       "      <td>2</td>\n",
       "      <td>1</td>\n",
       "      <td>3</td>\n",
       "      <td>1</td>\n",
       "      <td>1</td>\n",
       "      <td>0</td>\n",
       "      <td>0</td>\n",
       "      <td>6</td>\n",
       "      <td>1</td>\n",
       "      <td>1</td>\n",
       "      <td>6</td>\n",
       "      <td>0</td>\n",
       "      <td>0</td>\n",
       "      <td>0</td>\n",
       "      <td>0</td>\n",
       "      <td>0</td>\n",
       "      <td>0</td>\n",
       "      <td>1</td>\n",
       "      <td>0</td>\n",
       "      <td>0</td>\n",
       "      <td>0</td>\n",
       "      <td>5</td>\n",
       "      <td>0</td>\n",
       "      <td>0</td>\n",
       "      <td>0</td>\n",
       "      <td>0</td>\n",
       "      <td>0</td>\n",
       "      <td>0</td>\n",
       "      <td>5</td>\n",
       "      <td>1063.20</td>\n",
       "      <td>118.17</td>\n",
       "      <td>0.4549</td>\n",
       "      <td>5444.0518</td>\n",
       "      <td>653.57</td>\n",
       "    </tr>\n",
       "  </tbody>\n",
       "</table>\n",
       "</div>"
      ],
      "text/plain": [
       "                            customer_id  days_since_first_order  \\\n",
       "17335  d0ae4f4195ec22878cb8d2bc4f32be6f                    1691   \n",
       "39922  8d36ad109e3e8797bd3f83fc9c922177                    1666   \n",
       "7579   ed96b7f9f504ebbad0732be0f4841543                    1780   \n",
       "1628   b3265f4493ef582539f9001845bbfd43                    2087   \n",
       "25657  7350f4e1190757dc4a2fa73250986489                     486   \n",
       "25818  709025a6afa9cef981690832f8c809f6                    1794   \n",
       "16032  404c4700c98df6ce0f10d405fc43788e                    1737   \n",
       "961    9ab0f20caca047bbb068c6987417d47a                    1980   \n",
       "14786  e450c81169b1f4521b7a7ecdf1e4b48c                    1719   \n",
       "702    bb09480f7109867a8eac8c1a4c786e37                    1998   \n",
       "\n",
       "       days_since_last_order is_newsletter_subscriber  orders  items  cancels  \\\n",
       "17335                  40584                        N       1      4        0   \n",
       "39922                  39984                        Y       1      1        0   \n",
       "7579                   42720                        Y       1     10        0   \n",
       "1628                   50088                        N       1      1        0   \n",
       "25657                  11664                        N       1      1        0   \n",
       "25818                  43056                        N       1      2        0   \n",
       "16032                  41688                        N       1      1        0   \n",
       "961                    47520                        Y       3      9        0   \n",
       "14786                    312                        N      16     79        0   \n",
       "702                    40176                        N       5      8        1   \n",
       "\n",
       "       returns  different_addresses  shipping_addresses  devices  vouchers  \\\n",
       "17335        0                    0                   1        1         0   \n",
       "39922        0                    0                   1        1         1   \n",
       "7579         0                    1                   1        1         0   \n",
       "1628         0                    0                   1        1         0   \n",
       "25657        0                    0                   1        1         0   \n",
       "25818        0                    0                   1        1         0   \n",
       "16032        0                    0                   1        1         0   \n",
       "961          0                    0                   1        1         0   \n",
       "14786        0                    0                   1        2         7   \n",
       "702          1                    0                   2        1         3   \n",
       "\n",
       "       cc_payments  paypal_payments  afterpay_payments  apple_payments  \\\n",
       "17335            0                1                  0               0   \n",
       "39922            1                0                  0               0   \n",
       "7579             1                0                  0               0   \n",
       "1628             1                0                  0               0   \n",
       "25657            0                1                  0               0   \n",
       "25818            1                0                  0               0   \n",
       "16032            0                1                  0               0   \n",
       "961              1                0                  0               0   \n",
       "14786            1                1                  0               0   \n",
       "702              1                1                  0               0   \n",
       "\n",
       "       female_items  male_items  unisex_items  wapp_items  wftw_items  \\\n",
       "17335             4           0             0           2           2   \n",
       "39922             0           1             0           0           0   \n",
       "7579             10           0             0          10           0   \n",
       "1628              1           0             0           0           1   \n",
       "25657             1           0             0           1           0   \n",
       "25818             0           2             0           0           0   \n",
       "16032             0           1             0           0           0   \n",
       "961               9           0             0           6           3   \n",
       "14786            46          25             8          27           5   \n",
       "702               6           1             1           6           0   \n",
       "\n",
       "       mapp_items  wacc_items  macc_items  mftw_items  wspt_items  mspt_items  \\\n",
       "17335           0           0           0           0           0           0   \n",
       "39922           0           0           0           0           0           1   \n",
       "7579            0           0           0           0           0           0   \n",
       "1628            0           0           0           0           0           0   \n",
       "25657           0           0           0           0           0           0   \n",
       "25818           0           0           0           0           0           0   \n",
       "16032           0           0           0           0           0           0   \n",
       "961             0           0           0           0           0           0   \n",
       "14786          10           2           2          12           6           3   \n",
       "702             0           0           0           0           0           1   \n",
       "\n",
       "       curvy_items  sacc_items  msite_orders  desktop_orders  android_orders  \\\n",
       "17335            0           0             0               1               0   \n",
       "39922            0           0             0               1               0   \n",
       "7579             0           0             0               1               0   \n",
       "1628             0           0             0               1               0   \n",
       "25657            0           0             1               0               0   \n",
       "25818            0           0             1               0               0   \n",
       "16032            0           0             0               1               0   \n",
       "961              0           0             0               3               0   \n",
       "14786            0           5             0              12               0   \n",
       "702              0           0             0               5               0   \n",
       "\n",
       "       ios_orders  other_device_orders  work_orders  home_orders  \\\n",
       "17335           0                    0            0            0   \n",
       "39922           0                    0            0            0   \n",
       "7579            0                    0            0            0   \n",
       "1628            0                    0            0            0   \n",
       "25657           0                    0            0            1   \n",
       "25818           0                    0            0            0   \n",
       "16032           0                    0            0            0   \n",
       "961             0                    0            0            0   \n",
       "14786           4                    0            0            9   \n",
       "702             0                    0            0            0   \n",
       "\n",
       "       parcelpoint_orders  other_collection_orders  redpen_discount_used  \\\n",
       "17335                   0                        1               1147.36   \n",
       "39922                   0                        1                  0.00   \n",
       "7579                    0                        1                181.70   \n",
       "1628                    0                        1                 27.27   \n",
       "25657                   0                        0                  0.00   \n",
       "25818                   0                        1                  0.00   \n",
       "16032                   0                        1                 13.68   \n",
       "961                     0                        3                 93.00   \n",
       "14786                   0                        7              15842.66   \n",
       "702                     0                        5               1063.20   \n",
       "\n",
       "       coupon_discount_applied  average_discount_onoffer  \\\n",
       "17335                     0.00                    0.6000   \n",
       "39922                    45.45                    0.0000   \n",
       "7579                      0.00                    0.0500   \n",
       "1628                      0.00                    0.3001   \n",
       "25657                      NaN                    0.0000   \n",
       "25818                     0.00                    0.0000   \n",
       "16032                     0.00                    0.2315   \n",
       "961                       0.00                    0.0689   \n",
       "14786                  4357.81                    0.4280   \n",
       "702                     118.17                    0.4549   \n",
       "\n",
       "       average_discount_used   revenue  \n",
       "17335              5999.5788    626.80  \n",
       "39922              8339.4495      9.05  \n",
       "7579                499.8624   3598.40  \n",
       "1628               3001.3207     63.59  \n",
       "25657                 0.0000     90.86  \n",
       "25818                 0.0000     90.74  \n",
       "16032              2315.1125     45.41  \n",
       "961                 688.8889    452.31  \n",
       "14786              5595.0197  18656.77  \n",
       "702                5444.0518    653.57  "
      ]
     },
     "metadata": {},
     "output_type": "display_data"
    }
   ],
   "source": [
    "with pd.option_context('display.max_rows', 20, 'display.max_columns', 999):\n",
    "    display(customers.sample(10))"
   ]
  },
  {
   "cell_type": "markdown",
   "id": "93c443fc-251a-44d4-86bf-0b804d99c8c2",
   "metadata": {},
   "source": [
    "Ok it's just a column called \"female_items\", that's straightfoward. Need to examine the value so there's no surprise:"
   ]
  },
  {
   "cell_type": "code",
   "execution_count": 96,
   "id": "6cfd4f26-1f40-40a0-94e4-e4d48260fec1",
   "metadata": {},
   "outputs": [
    {
     "data": {
      "text/plain": [
       "count    46279.000000\n",
       "mean         6.465827\n",
       "std         17.805349\n",
       "min          0.000000\n",
       "25%          0.000000\n",
       "50%          2.000000\n",
       "75%          5.000000\n",
       "max        537.000000\n",
       "Name: female_items, dtype: float64"
      ]
     },
     "execution_count": 96,
     "metadata": {},
     "output_type": "execute_result"
    }
   ],
   "source": [
    "customers.female_items.describe()"
   ]
  },
  {
   "cell_type": "markdown",
   "id": "ea71dd4a-f5fb-4b7c-9a7e-b6f17225a60c",
   "metadata": {},
   "source": [
    "Someone bought 537 female products? But 75th percentile of 5 items and no negative numbers etc, we should be good"
   ]
  },
  {
   "cell_type": "code",
   "execution_count": 110,
   "id": "0ad3ad1c-64a6-43a8-9109-912e4f5783cf",
   "metadata": {},
   "outputs": [
    {
     "data": {
      "text/html": [
       "<div>\n",
       "<style scoped>\n",
       "    .dataframe tbody tr th:only-of-type {\n",
       "        vertical-align: middle;\n",
       "    }\n",
       "\n",
       "    .dataframe tbody tr th {\n",
       "        vertical-align: top;\n",
       "    }\n",
       "\n",
       "    .dataframe thead th {\n",
       "        text-align: right;\n",
       "    }\n",
       "</style>\n",
       "<table border=\"1\" class=\"dataframe\">\n",
       "  <thead>\n",
       "    <tr style=\"text-align: right;\">\n",
       "      <th></th>\n",
       "      <th>n_cust_cc</th>\n",
       "      <th>n_cust_no_cc</th>\n",
       "      <th>pctg_cc</th>\n",
       "    </tr>\n",
       "  </thead>\n",
       "  <tbody>\n",
       "    <tr>\n",
       "      <th>0</th>\n",
       "      <td>22588</td>\n",
       "      <td>11935</td>\n",
       "      <td>65.428845</td>\n",
       "    </tr>\n",
       "  </tbody>\n",
       "</table>\n",
       "</div>"
      ],
      "text/plain": [
       "   n_cust_cc  n_cust_no_cc    pctg_cc\n",
       "0      22588         11935  65.428845"
      ]
     },
     "execution_count": 110,
     "metadata": {},
     "output_type": "execute_result"
    }
   ],
   "source": [
    "sql_str2 = \"\"\"\n",
    "select\n",
    "    n_cust_cc, \n",
    "    n_cust_no_cc,\n",
    "    1.0 * n_cust_cc / (n_cust_cc + n_cust_no_cc)*100 pctg_cc\n",
    "from (\n",
    "    select\n",
    "        sum(case when cc_payments<>0 then n_cust else 0 end) n_cust_cc,\n",
    "        sum(case when cc_payments=0 then n_cust else 0 end) n_cust_no_cc\n",
    "    from (\n",
    "        select \n",
    "            cc_payments,\n",
    "            count(*) n_cust\n",
    "        from \n",
    "            customers\n",
    "        where\n",
    "            female_items > 0\n",
    "        group by \n",
    "            cc_payments\n",
    "    )\n",
    ")\n",
    "\"\"\"\n",
    "\n",
    "with SqlLitePandasAdapter(db_path) as q:\n",
    "    df_answer2 = q.query(sql_str2)\n",
    "\n",
    "df_answer2"
   ]
  },
  {
   "cell_type": "markdown",
   "id": "1f5d0744-2a47-4f63-af04-c0cbcfbc8605",
   "metadata": {},
   "source": [
    "So the answer is 65.428845%\n",
    "\n",
    "Doing pivoting in SQL is annoying, not sure Sqlite3 has similar pivoting function like MS SQL Server but didn't have time to check. Let me double check with pandas. "
   ]
  },
  {
   "cell_type": "code",
   "execution_count": 124,
   "id": "38ec7332-b237-41d8-b3e6-687dfde140dd",
   "metadata": {},
   "outputs": [
    {
     "data": {
      "text/plain": [
       "0.6542884453842366"
      ]
     },
     "execution_count": 124,
     "metadata": {},
     "output_type": "execute_result"
    }
   ],
   "source": [
    "(customers\n",
    " .assign(bought_female=lambda df: df.female_items>0) # define boolean flag for bought female_items\n",
    " .assign(paid_by_cc=lambda df: df.cc_payments>0) # define boolean flag for paid by creditcard\n",
    " [lambda df: df.bought_female] # filter on those who bought female item\n",
    " .groupby('paid_by_cc') # group by and count\n",
    " .size()\n",
    " .rename('n_cust')\n",
    " .pipe(lambda s: s[True]/s.sum()) # calculate percentage\n",
    ")"
   ]
  },
  {
   "cell_type": "markdown",
   "id": "a7427ea7-0a0d-4902-bcc3-2803c27ab2b4",
   "metadata": {},
   "source": [
    "Ok that wasn't much eaiser but it's more intuitive.. maybe? I'm sure there are better ways. "
   ]
  },
  {
   "cell_type": "markdown",
   "id": "377ee2e3-ce8b-41c1-8abf-8a028d555fe1",
   "metadata": {},
   "source": [
    "# Question 3\n",
    "__What was the average revenue for customers who used either iOS, Android or Desktop?__"
   ]
  },
  {
   "cell_type": "markdown",
   "id": "a706577b-bec2-4e8e-8f33-d8c2258f6d8f",
   "metadata": {},
   "source": [
    "These 3 columns seem relevant: desktop_orders,android_orders,ios_orders\n",
    "\n",
    "This feels way too easy, is this a trick question?"
   ]
  },
  {
   "cell_type": "code",
   "execution_count": 125,
   "id": "11a6fc81-2d17-4835-ac18-9366b656cfb6",
   "metadata": {},
   "outputs": [
    {
     "data": {
      "text/html": [
       "<div>\n",
       "<style scoped>\n",
       "    .dataframe tbody tr th:only-of-type {\n",
       "        vertical-align: middle;\n",
       "    }\n",
       "\n",
       "    .dataframe tbody tr th {\n",
       "        vertical-align: top;\n",
       "    }\n",
       "\n",
       "    .dataframe thead th {\n",
       "        text-align: right;\n",
       "    }\n",
       "</style>\n",
       "<table border=\"1\" class=\"dataframe\">\n",
       "  <thead>\n",
       "    <tr style=\"text-align: right;\">\n",
       "      <th></th>\n",
       "      <th>desktop_orders</th>\n",
       "      <th>android_orders</th>\n",
       "      <th>ios_orders</th>\n",
       "    </tr>\n",
       "  </thead>\n",
       "  <tbody>\n",
       "    <tr>\n",
       "      <th>count</th>\n",
       "      <td>46279.000000</td>\n",
       "      <td>46279.000000</td>\n",
       "      <td>46279.000000</td>\n",
       "    </tr>\n",
       "    <tr>\n",
       "      <th>mean</th>\n",
       "      <td>2.624149</td>\n",
       "      <td>0.042935</td>\n",
       "      <td>0.462953</td>\n",
       "    </tr>\n",
       "    <tr>\n",
       "      <th>std</th>\n",
       "      <td>6.094596</td>\n",
       "      <td>0.535762</td>\n",
       "      <td>2.488750</td>\n",
       "    </tr>\n",
       "    <tr>\n",
       "      <th>min</th>\n",
       "      <td>0.000000</td>\n",
       "      <td>0.000000</td>\n",
       "      <td>0.000000</td>\n",
       "    </tr>\n",
       "    <tr>\n",
       "      <th>25%</th>\n",
       "      <td>1.000000</td>\n",
       "      <td>0.000000</td>\n",
       "      <td>0.000000</td>\n",
       "    </tr>\n",
       "    <tr>\n",
       "      <th>50%</th>\n",
       "      <td>1.000000</td>\n",
       "      <td>0.000000</td>\n",
       "      <td>0.000000</td>\n",
       "    </tr>\n",
       "    <tr>\n",
       "      <th>75%</th>\n",
       "      <td>3.000000</td>\n",
       "      <td>0.000000</td>\n",
       "      <td>0.000000</td>\n",
       "    </tr>\n",
       "    <tr>\n",
       "      <th>max</th>\n",
       "      <td>665.000000</td>\n",
       "      <td>33.000000</td>\n",
       "      <td>84.000000</td>\n",
       "    </tr>\n",
       "  </tbody>\n",
       "</table>\n",
       "</div>"
      ],
      "text/plain": [
       "       desktop_orders  android_orders    ios_orders\n",
       "count    46279.000000    46279.000000  46279.000000\n",
       "mean         2.624149        0.042935      0.462953\n",
       "std          6.094596        0.535762      2.488750\n",
       "min          0.000000        0.000000      0.000000\n",
       "25%          1.000000        0.000000      0.000000\n",
       "50%          1.000000        0.000000      0.000000\n",
       "75%          3.000000        0.000000      0.000000\n",
       "max        665.000000       33.000000     84.000000"
      ]
     },
     "execution_count": 125,
     "metadata": {},
     "output_type": "execute_result"
    }
   ],
   "source": [
    "customers[['desktop_orders', 'android_orders', 'ios_orders']].describe()"
   ]
  },
  {
   "cell_type": "code",
   "execution_count": 127,
   "id": "c85c7d17-7d67-4930-b314-c764d4dae342",
   "metadata": {},
   "outputs": [
    {
     "data": {
      "text/plain": [
       "desktop_orders    36523\n",
       "android_orders      754\n",
       "ios_orders         4975\n",
       "dtype: int64"
      ]
     },
     "execution_count": 127,
     "metadata": {},
     "output_type": "execute_result"
    }
   ],
   "source": [
    "(customers[['desktop_orders', 'android_orders', 'ios_orders']]>0).sum()"
   ]
  },
  {
   "cell_type": "markdown",
   "id": "5b5eaf5b-56be-417f-8b99-14ac1c7d1fe3",
   "metadata": {},
   "source": [
    "Surprised to see how few customers were ordering from Android or iOS"
   ]
  },
  {
   "cell_type": "code",
   "execution_count": 128,
   "id": "cb5216e8-5c04-4801-8547-9a0f83b361a9",
   "metadata": {},
   "outputs": [
    {
     "data": {
      "text/html": [
       "<div>\n",
       "<style scoped>\n",
       "    .dataframe tbody tr th:only-of-type {\n",
       "        vertical-align: middle;\n",
       "    }\n",
       "\n",
       "    .dataframe tbody tr th {\n",
       "        vertical-align: top;\n",
       "    }\n",
       "\n",
       "    .dataframe thead th {\n",
       "        text-align: right;\n",
       "    }\n",
       "</style>\n",
       "<table border=\"1\" class=\"dataframe\">\n",
       "  <thead>\n",
       "    <tr style=\"text-align: right;\">\n",
       "      <th></th>\n",
       "      <th>avg_revenue</th>\n",
       "    </tr>\n",
       "  </thead>\n",
       "  <tbody>\n",
       "    <tr>\n",
       "      <th>0</th>\n",
       "      <td>1484.889118</td>\n",
       "    </tr>\n",
       "  </tbody>\n",
       "</table>\n",
       "</div>"
      ],
      "text/plain": [
       "   avg_revenue\n",
       "0  1484.889118"
      ]
     },
     "execution_count": 128,
     "metadata": {},
     "output_type": "execute_result"
    }
   ],
   "source": [
    "sql_str3 = \"\"\"\n",
    "select \n",
    "    avg(revenue) avg_revenue\n",
    "from \n",
    "    customers\n",
    "where\n",
    "    desktop_orders > 0 \n",
    "    or android_orders > 0\n",
    "    or ios_orders > 0\n",
    "\"\"\"\n",
    "\n",
    "with SqlLitePandasAdapter(db_path) as q:\n",
    "    df_answer3 = q.query(sql_str3)\n",
    "\n",
    "df_answer3"
   ]
  },
  {
   "cell_type": "markdown",
   "id": "145ad740-6037-40bc-8af7-2286b9a542b4",
   "metadata": {},
   "source": [
    "The answer is $1,484.889118\n",
    "\n",
    "I still think this is a trick question, but anyway.."
   ]
  },
  {
   "cell_type": "markdown",
   "id": "254ccacc-b19d-4aba-8d12-06acf669c5ab",
   "metadata": {},
   "source": [
    "# Question 4\n",
    "__We want to run an email campaign promoting a new mens luxury brand. Can you provide a list of customers we should send to?__"
   ]
  },
  {
   "cell_type": "markdown",
   "id": "74d6cf69-adc5-4f4c-abe5-032b2ffc3f38",
   "metadata": {},
   "source": [
    "This is quite open ended, an SME would have better view on the select criteria. I'll keep it simple: \n",
    "\n",
    "customers who have bought mens products -> relevant segment\n",
    "\n",
    "recently -> active customers\n",
    "\n",
    "and have the highest average spend per item -> proxy for luxury purchase"
   ]
  },
  {
   "cell_type": "code",
   "execution_count": 169,
   "id": "3a5c2a90-6d3b-49e5-8c42-9158b3212c9a",
   "metadata": {},
   "outputs": [
    {
     "data": {
      "text/plain": [
       "count    46279.000000\n",
       "mean         1.719203\n",
       "std          5.464658\n",
       "min          0.000000\n",
       "25%          0.000000\n",
       "50%          0.000000\n",
       "75%          1.000000\n",
       "max        273.000000\n",
       "Name: male_items, dtype: float64"
      ]
     },
     "execution_count": 169,
     "metadata": {},
     "output_type": "execute_result"
    }
   ],
   "source": [
    "customers.male_items.describe()"
   ]
  },
  {
   "cell_type": "code",
   "execution_count": 129,
   "id": "b2d3fdc4-6430-41d7-a4ac-4e71f9779417",
   "metadata": {},
   "outputs": [],
   "source": [
    "male_item_customers = customers[lambda df: df.male_items>0]"
   ]
  },
  {
   "cell_type": "code",
   "execution_count": 131,
   "id": "f0e23462-7b4e-4fe7-8900-f36f7a850fb8",
   "metadata": {},
   "outputs": [
    {
     "data": {
      "text/plain": [
       "count    17186.000000\n",
       "mean     22632.625626\n",
       "std      16786.939261\n",
       "min         24.000000\n",
       "25%       5112.000000\n",
       "50%      22044.000000\n",
       "75%      40968.000000\n",
       "max      50688.000000\n",
       "Name: days_since_last_order, dtype: float64"
      ]
     },
     "execution_count": 131,
     "metadata": {},
     "output_type": "execute_result"
    }
   ],
   "source": [
    "(male_item_customers\n",
    " .days_since_last_order.describe()\n",
    ")"
   ]
  },
  {
   "cell_type": "markdown",
   "id": "8bc93780-92ee-4afd-9993-765a7db38379",
   "metadata": {},
   "source": [
    "This can't be right"
   ]
  },
  {
   "cell_type": "code",
   "execution_count": 133,
   "id": "7dee890d-4f44-498e-9b00-f0af2acde60d",
   "metadata": {},
   "outputs": [
    {
     "data": {
      "text/plain": [
       "count    17186.000000\n",
       "mean        62.007193\n",
       "std         45.991614\n",
       "min          0.065753\n",
       "25%         14.005479\n",
       "50%         60.394521\n",
       "75%        112.241096\n",
       "max        138.871233\n",
       "Name: years_since_last_order, dtype: float64"
      ]
     },
     "execution_count": 133,
     "metadata": {},
     "output_type": "execute_result"
    }
   ],
   "source": [
    "(male_item_customers\n",
    " .days_since_last_order\n",
    " .pipe(lambda s: s/365)\n",
    " .rename('years_since_last_order')\n",
    " .describe()\n",
    ")"
   ]
  },
  {
   "cell_type": "markdown",
   "id": "8796beca-e477-423e-b2f8-ad3db8fa085b",
   "metadata": {},
   "source": [
    "Mean average time since last order is 60 years??\n",
    "\n",
    "Let me take a step back and clean this up first. Because I really want to use this column. "
   ]
  },
  {
   "cell_type": "code",
   "execution_count": 137,
   "id": "be60b8c8-81f5-4b04-9c20-7133ca219b20",
   "metadata": {},
   "outputs": [
    {
     "data": {
      "text/html": [
       "<div>\n",
       "<style scoped>\n",
       "    .dataframe tbody tr th:only-of-type {\n",
       "        vertical-align: middle;\n",
       "    }\n",
       "\n",
       "    .dataframe tbody tr th {\n",
       "        vertical-align: top;\n",
       "    }\n",
       "\n",
       "    .dataframe thead th {\n",
       "        text-align: right;\n",
       "    }\n",
       "</style>\n",
       "<table border=\"1\" class=\"dataframe\">\n",
       "  <thead>\n",
       "    <tr style=\"text-align: right;\">\n",
       "      <th></th>\n",
       "      <th>days_since_first_order</th>\n",
       "      <th>days_since_last_order</th>\n",
       "    </tr>\n",
       "  </thead>\n",
       "  <tbody>\n",
       "    <tr>\n",
       "      <th>count</th>\n",
       "      <td>46279.000000</td>\n",
       "      <td>46279.000000</td>\n",
       "    </tr>\n",
       "    <tr>\n",
       "      <th>mean</th>\n",
       "      <td>1374.041444</td>\n",
       "      <td>24592.675382</td>\n",
       "    </tr>\n",
       "    <tr>\n",
       "      <th>std</th>\n",
       "      <td>604.972862</td>\n",
       "      <td>16935.826675</td>\n",
       "    </tr>\n",
       "    <tr>\n",
       "      <th>min</th>\n",
       "      <td>1.000000</td>\n",
       "      <td>24.000000</td>\n",
       "    </tr>\n",
       "    <tr>\n",
       "      <th>25%</th>\n",
       "      <td>910.000000</td>\n",
       "      <td>6816.000000</td>\n",
       "    </tr>\n",
       "    <tr>\n",
       "      <th>50%</th>\n",
       "      <td>1713.000000</td>\n",
       "      <td>25560.000000</td>\n",
       "    </tr>\n",
       "    <tr>\n",
       "      <th>75%</th>\n",
       "      <td>1786.000000</td>\n",
       "      <td>41640.000000</td>\n",
       "    </tr>\n",
       "    <tr>\n",
       "      <th>max</th>\n",
       "      <td>2164.000000</td>\n",
       "      <td>51840.000000</td>\n",
       "    </tr>\n",
       "  </tbody>\n",
       "</table>\n",
       "</div>"
      ],
      "text/plain": [
       "       days_since_first_order  days_since_last_order\n",
       "count            46279.000000           46279.000000\n",
       "mean              1374.041444           24592.675382\n",
       "std                604.972862           16935.826675\n",
       "min                  1.000000              24.000000\n",
       "25%                910.000000            6816.000000\n",
       "50%               1713.000000           25560.000000\n",
       "75%               1786.000000           41640.000000\n",
       "max               2164.000000           51840.000000"
      ]
     },
     "execution_count": 137,
     "metadata": {},
     "output_type": "execute_result"
    }
   ],
   "source": [
    "customers[['days_since_first_order', 'days_since_last_order']].describe()"
   ]
  },
  {
   "cell_type": "code",
   "execution_count": 138,
   "id": "a1f9edf4-fac3-46f2-bd9f-87bad42e58f3",
   "metadata": {},
   "outputs": [
    {
     "data": {
      "text/plain": [
       "5.928767123287671"
      ]
     },
     "execution_count": 138,
     "metadata": {},
     "output_type": "execute_result"
    }
   ],
   "source": [
    "customers.days_since_first_order.max()/365"
   ]
  },
  {
   "cell_type": "markdown",
   "id": "505dbf62-b627-4207-b315-09a066745a1c",
   "metadata": {},
   "source": [
    "According to Wikipedia, The ICONIC lauched in 2011, so max first order of 5.9 years is reasonable. \n",
    "\n",
    "If days_since_last_order is not actually days, and assume it's fixable, it's most likely measured in the wrong unit. Given the min value is 24, let me try treating it as hours instead of days."
   ]
  },
  {
   "cell_type": "code",
   "execution_count": 141,
   "id": "fdfbc870-3e57-4161-8132-9e166ad6a15f",
   "metadata": {},
   "outputs": [
    {
     "data": {
      "text/plain": [
       "count    46279.000000\n",
       "mean         2.807383\n",
       "std          1.933314\n",
       "min          0.002740\n",
       "25%          0.778082\n",
       "50%          2.917808\n",
       "75%          4.753425\n",
       "max          5.917808\n",
       "Name: years_since_last_order, dtype: float64"
      ]
     },
     "execution_count": 141,
     "metadata": {},
     "output_type": "execute_result"
    }
   ],
   "source": [
    "customers.days_since_last_order.pipe(lambda s: s/24/365).rename('years_since_last_order').describe()"
   ]
  },
  {
   "cell_type": "markdown",
   "id": "5942164a-237d-4b7b-8cf5-233d3225c9bc",
   "metadata": {},
   "source": [
    "Max is just a little bit smaller than max first order! This must be it!"
   ]
  },
  {
   "cell_type": "code",
   "execution_count": 142,
   "id": "e0ee917f-fd3b-4d2c-a0b6-21eed7c035b9",
   "metadata": {},
   "outputs": [],
   "source": [
    "customers_fixed = customers.assign(days_since_last_order=lambda df: df.days_since_last_order/24)"
   ]
  },
  {
   "cell_type": "markdown",
   "id": "a3a9820d-61e5-4e4c-9f63-87a01159328a",
   "metadata": {},
   "source": [
    "I think I might have done part of the next challenge by fixing this. Totally fogot about this instruction:\n",
    "> Note: At this stage it is ok to ignore the underlying errors in the data\n",
    "\n",
    "Anyway\n",
    "\n",
    "Now let's try this again"
   ]
  },
  {
   "cell_type": "code",
   "execution_count": 146,
   "id": "937d640d-2449-416f-abaf-29e433a5305b",
   "metadata": {},
   "outputs": [],
   "source": [
    "male_item_customers = customers_fixed[lambda df: df.male_items>0]"
   ]
  },
  {
   "cell_type": "code",
   "execution_count": 147,
   "id": "6d6e5d2a-0ddf-4cac-be53-20a9cab6f900",
   "metadata": {},
   "outputs": [
    {
     "data": {
      "text/plain": [
       "count    17186.000000\n",
       "mean       943.026068\n",
       "std        699.455803\n",
       "min          1.000000\n",
       "25%        213.000000\n",
       "50%        918.500000\n",
       "75%       1707.000000\n",
       "max       2112.000000\n",
       "Name: days_since_last_order, dtype: float64"
      ]
     },
     "execution_count": 147,
     "metadata": {},
     "output_type": "execute_result"
    }
   ],
   "source": [
    "(male_item_customers\n",
    " .days_since_last_order.describe()\n",
    ")"
   ]
  },
  {
   "cell_type": "code",
   "execution_count": 153,
   "id": "1aa8e917-40af-4add-b8bc-d7d0e47722ee",
   "metadata": {},
   "outputs": [
    {
     "data": {
      "text/plain": [
       "4296"
      ]
     },
     "execution_count": 153,
     "metadata": {},
     "output_type": "execute_result"
    }
   ],
   "source": [
    "male_item_customers[lambda df: df.days_since_last_order<df.days_since_last_order.quantile(0.25)].pipe(len)"
   ]
  },
  {
   "cell_type": "code",
   "execution_count": 154,
   "id": "9f775955-cd91-4cb7-9aef-a2a41fb6b1cb",
   "metadata": {},
   "outputs": [],
   "source": [
    "active_male_item_customers = male_item_customers[lambda df: df.days_since_last_order<df.days_since_last_order.quantile(0.25)]"
   ]
  },
  {
   "cell_type": "markdown",
   "id": "cdf49ce9-ef90-4cc6-a7cf-1396a9d5d644",
   "metadata": {},
   "source": [
    "Top 25 percentile of most active male product purchasers gives us a list of 4296 customers\n",
    "\n",
    "Now I'll pick the luxury buyers from them"
   ]
  },
  {
   "cell_type": "code",
   "execution_count": 164,
   "id": "9b0a4acd-5802-4860-81d5-c35ae4a1da41",
   "metadata": {},
   "outputs": [
    {
     "data": {
      "text/plain": [
       "count    4296.000000\n",
       "mean      135.509033\n",
       "std       102.310184\n",
       "min         0.000000\n",
       "50%       112.390455\n",
       "60%       128.672414\n",
       "70%       148.170193\n",
       "80%       178.560909\n",
       "90%       236.393333\n",
       "95%       305.301591\n",
       "96%       327.771225\n",
       "97%       365.142392\n",
       "98%       402.484675\n",
       "99%       483.647633\n",
       "max      1562.796957\n",
       "Name: mean_rev_per_item, dtype: float64"
      ]
     },
     "execution_count": 164,
     "metadata": {},
     "output_type": "execute_result"
    }
   ],
   "source": [
    "(active_male_item_customers\n",
    " .assign(mean_rev_per_item=lambda df: df.revenue/df['items'])\n",
    " .mean_rev_per_item\n",
    " .describe(percentiles=[.50, .60, .70, .80,.90, .95, .96, .97, .98, .99])\n",
    ")"
   ]
  },
  {
   "cell_type": "markdown",
   "id": "73221b8c-7e34-4e55-9b2f-927e5a73b433",
   "metadata": {},
   "source": [
    "That 90th percentile looks pretty good, should give us about 430 customers. It's a tiny list in email campaign standard but since this is just a tech challenge I'll leave it at that instead of re-tweaking the parameters. \n",
    "\n",
    "SQL time!"
   ]
  },
  {
   "cell_type": "code",
   "execution_count": 167,
   "id": "de44f72d-032d-4b46-abe3-64de35d39e91",
   "metadata": {},
   "outputs": [
    {
     "data": {
      "text/html": [
       "<div>\n",
       "<style scoped>\n",
       "    .dataframe tbody tr th:only-of-type {\n",
       "        vertical-align: middle;\n",
       "    }\n",
       "\n",
       "    .dataframe tbody tr th {\n",
       "        vertical-align: top;\n",
       "    }\n",
       "\n",
       "    .dataframe thead th {\n",
       "        text-align: right;\n",
       "    }\n",
       "</style>\n",
       "<table border=\"1\" class=\"dataframe\">\n",
       "  <thead>\n",
       "    <tr style=\"text-align: right;\">\n",
       "      <th></th>\n",
       "      <th>customer_id</th>\n",
       "    </tr>\n",
       "  </thead>\n",
       "  <tbody>\n",
       "    <tr>\n",
       "      <th>0</th>\n",
       "      <td>07470e20e3fedf65d1acf848b384c2ce</td>\n",
       "    </tr>\n",
       "    <tr>\n",
       "      <th>1</th>\n",
       "      <td>ac4e68a4a845aa53e72cc4d4b14c7c7a</td>\n",
       "    </tr>\n",
       "    <tr>\n",
       "      <th>2</th>\n",
       "      <td>9ac00fdbd1e26180956f9ca04787a7b9</td>\n",
       "    </tr>\n",
       "    <tr>\n",
       "      <th>3</th>\n",
       "      <td>31100a449e53e5a6cb5b92d237f47721</td>\n",
       "    </tr>\n",
       "    <tr>\n",
       "      <th>4</th>\n",
       "      <td>77e1a79a7ea77d1b616fb6f488c1a962</td>\n",
       "    </tr>\n",
       "    <tr>\n",
       "      <th>...</th>\n",
       "      <td>...</td>\n",
       "    </tr>\n",
       "    <tr>\n",
       "      <th>425</th>\n",
       "      <td>0d63e7093346933ecd105502bb76bd57</td>\n",
       "    </tr>\n",
       "    <tr>\n",
       "      <th>426</th>\n",
       "      <td>80af9d311465ad70ec0f868aa118a853</td>\n",
       "    </tr>\n",
       "    <tr>\n",
       "      <th>427</th>\n",
       "      <td>98c12f5a526e1e756696cca1115d0aad</td>\n",
       "    </tr>\n",
       "    <tr>\n",
       "      <th>428</th>\n",
       "      <td>b759dc591fb93bc241ac31d787e49d96</td>\n",
       "    </tr>\n",
       "    <tr>\n",
       "      <th>429</th>\n",
       "      <td>38ef0dded3f9030ee44ba3173d40d476</td>\n",
       "    </tr>\n",
       "  </tbody>\n",
       "</table>\n",
       "<p>430 rows × 1 columns</p>\n",
       "</div>"
      ],
      "text/plain": [
       "                          customer_id\n",
       "0    07470e20e3fedf65d1acf848b384c2ce\n",
       "1    ac4e68a4a845aa53e72cc4d4b14c7c7a\n",
       "2    9ac00fdbd1e26180956f9ca04787a7b9\n",
       "3    31100a449e53e5a6cb5b92d237f47721\n",
       "4    77e1a79a7ea77d1b616fb6f488c1a962\n",
       "..                                ...\n",
       "425  0d63e7093346933ecd105502bb76bd57\n",
       "426  80af9d311465ad70ec0f868aa118a853\n",
       "427  98c12f5a526e1e756696cca1115d0aad\n",
       "428  b759dc591fb93bc241ac31d787e49d96\n",
       "429  38ef0dded3f9030ee44ba3173d40d476\n",
       "\n",
       "[430 rows x 1 columns]"
      ]
     },
     "execution_count": 167,
     "metadata": {},
     "output_type": "execute_result"
    }
   ],
   "source": [
    "sql_str4 = \"\"\"\n",
    "select \n",
    "    customer_id\n",
    "from \n",
    "    customers\n",
    "where\n",
    "    customer_id in (\n",
    "        select \n",
    "            customer_id\n",
    "        from\n",
    "            customers\n",
    "        where\n",
    "            male_items > 0\n",
    "        order by\n",
    "            days_since_last_order asc\n",
    "        limit 4296\n",
    "    )\n",
    "order by \n",
    "    (revenue/items) desc\n",
    "limit 430\n",
    "\"\"\"\n",
    "\n",
    "with SqlLitePandasAdapter(db_path) as q:\n",
    "    df_answer4 = q.query(sql_str4)\n",
    "\n",
    "df_answer4"
   ]
  },
  {
   "cell_type": "markdown",
   "id": "bce0cce0-ec9f-4189-adae-56b521a44ace",
   "metadata": {},
   "source": [
    "Here we go, a list of 430 customers who have been relatively active and purchased males items, and have the top 10 percentiles highest average revenue per item. "
   ]
  },
  {
   "cell_type": "code",
   "execution_count": null,
   "id": "1b027623-64df-44f2-8390-418bc83191f4",
   "metadata": {},
   "outputs": [],
   "source": []
  }
 ],
 "metadata": {
  "kernelspec": {
   "display_name": "Python 3 (ipykernel)",
   "language": "python",
   "name": "python3"
  },
  "language_info": {
   "codemirror_mode": {
    "name": "ipython",
    "version": 3
   },
   "file_extension": ".py",
   "mimetype": "text/x-python",
   "name": "python",
   "nbconvert_exporter": "python",
   "pygments_lexer": "ipython3",
   "version": "3.9.12"
  }
 },
 "nbformat": 4,
 "nbformat_minor": 5
}
